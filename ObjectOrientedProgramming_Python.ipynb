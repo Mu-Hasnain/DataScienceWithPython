{
  "nbformat": 4,
  "nbformat_minor": 0,
  "metadata": {
    "colab": {
      "provenance": [],
      "collapsed_sections": [],
      "authorship_tag": "ABX9TyMpt8uOkPnqRUb1wy5VviU8",
      "include_colab_link": true
    },
    "kernelspec": {
      "name": "python3",
      "display_name": "Python 3"
    },
    "language_info": {
      "name": "python"
    }
  },
  "cells": [
    {
      "cell_type": "markdown",
      "metadata": {
        "id": "view-in-github",
        "colab_type": "text"
      },
      "source": [
        "<a href=\"https://colab.research.google.com/github/Mu-Hasnain/DataScienceWithPython/blob/PythonCrash/ObjectOrientedProgramming_Python.ipynb\" target=\"_parent\"><img src=\"https://colab.research.google.com/assets/colab-badge.svg\" alt=\"Open In Colab\"/></a>"
      ]
    },
    {
      "cell_type": "markdown",
      "source": [
        "**object oriented Programming**\n",
        "\n",
        "Car(noun)\n",
        "\n",
        "Attributes(adjective) \n",
        "\n",
        "Behaviour (Verb)\n",
        "\n",
        "1. company name\n",
        "\n",
        "2. color \n",
        "\n",
        "3. design\n",
        "\n",
        "1. accelarate\n",
        "\n",
        "2. breke\n",
        "\n"
      ],
      "metadata": {
        "id": "iuX6356NcrFy"
      }
    },
    {
      "cell_type": "code",
      "execution_count": null,
      "metadata": {
        "id": "0ge9Gw_4Xr8e"
      },
      "outputs": [],
      "source": [
        "#Creating an empty Class\n",
        "class Sample():\n",
        "  pass\n"
      ]
    },
    {
      "cell_type": "code",
      "source": [
        "x = Sample()\n",
        "print(type(x))"
      ],
      "metadata": {
        "colab": {
          "base_uri": "https://localhost:8080/"
        },
        "id": "2QEozk-GeAt-",
        "outputId": "e6cd2fda-b2e5-4b61-b458-12c5e7748037"
      },
      "execution_count": null,
      "outputs": [
        {
          "output_type": "stream",
          "name": "stdout",
          "text": [
            "<class '__main__.Sample'>\n"
          ]
        }
      ]
    },
    {
      "cell_type": "code",
      "source": [
        "class Dog:\n",
        " \n",
        "    # class attribute\n",
        "    species = \"mammal\"\n",
        " \n",
        "    # Instance attribute\n",
        "    def __init__(self, breed, name):\n",
        "        self.breed = breed\n",
        "        self.name = name\n",
        " \n",
        "# Driver code\n",
        "# Object instantiation\n",
        "sam = Dog('lab',\"Rodger\")\n",
        "frank = Dog(\"huskie\",\"Tommy\")\n"
      ],
      "metadata": {
        "id": "Ah16Pj2ekEre"
      },
      "execution_count": 34,
      "outputs": []
    },
    {
      "cell_type": "code",
      "source": [
        "sam.name"
      ],
      "metadata": {
        "colab": {
          "base_uri": "https://localhost:8080/",
          "height": 35
        },
        "id": "HYH2GV3xqcOs",
        "outputId": "e8f2be45-ce15-4e79-8e1e-9043f2b47366"
      },
      "execution_count": 35,
      "outputs": [
        {
          "output_type": "execute_result",
          "data": {
            "text/plain": [
              "'Rodger'"
            ],
            "application/vnd.google.colaboratory.intrinsic+json": {
              "type": "string"
            }
          },
          "metadata": {},
          "execution_count": 35
        }
      ]
    },
    {
      "cell_type": "code",
      "source": [
        "sam.breed\n"
      ],
      "metadata": {
        "colab": {
          "base_uri": "https://localhost:8080/",
          "height": 35
        },
        "id": "EX28Ju8sqn9S",
        "outputId": "8e49b365-9736-4867-e31f-3c68942d6fde"
      },
      "execution_count": 36,
      "outputs": [
        {
          "output_type": "execute_result",
          "data": {
            "text/plain": [
              "'lab'"
            ],
            "application/vnd.google.colaboratory.intrinsic+json": {
              "type": "string"
            }
          },
          "metadata": {},
          "execution_count": 36
        }
      ]
    },
    {
      "cell_type": "code",
      "source": [
        "sam.species"
      ],
      "metadata": {
        "colab": {
          "base_uri": "https://localhost:8080/",
          "height": 35
        },
        "id": "yNggU9pmqrPg",
        "outputId": "663c44c4-5892-4991-e19c-be6c377b0ade"
      },
      "execution_count": 37,
      "outputs": [
        {
          "output_type": "execute_result",
          "data": {
            "text/plain": [
              "'mammal'"
            ],
            "application/vnd.google.colaboratory.intrinsic+json": {
              "type": "string"
            }
          },
          "metadata": {},
          "execution_count": 37
        }
      ]
    },
    {
      "cell_type": "code",
      "source": [
        "class Circle():\n",
        "  p1 = 3.142\n",
        "  \n",
        "  def __init__(self, radius=1):\n",
        "    self.radius = radius\n",
        "\n",
        "  def area(self):\n",
        "    return self.radius*self.radius*Circle.p1\n",
        "  \n",
        "  def setradius(self, radius):\n",
        "    self.radius = radius\n",
        "    "
      ],
      "metadata": {
        "id": "saIgOZn-rORd"
      },
      "execution_count": 69,
      "outputs": []
    },
    {
      "cell_type": "code",
      "source": [
        "c1 = Circle()\n",
        "c1.setradius(5)\n",
        "print(c1.area())"
      ],
      "metadata": {
        "colab": {
          "base_uri": "https://localhost:8080/"
        },
        "id": "KVQDHhPxrzjM",
        "outputId": "8c1bc534-d7e7-4ca8-fb28-77b8cd05e75a"
      },
      "execution_count": 70,
      "outputs": [
        {
          "output_type": "stream",
          "name": "stdout",
          "text": [
            "78.55\n"
          ]
        }
      ]
    },
    {
      "cell_type": "code",
      "source": [
        "#Inheritance\n",
        "\n",
        "class Animal():\n",
        "  def __init__(self):\n",
        "    print(\"Animal created\")\n",
        "  def whoamI(self):\n",
        "    print(\"Animal\")\n",
        "  def eat(self):\n",
        "    print(\"eating\")\n",
        "  \n",
        "class Dog(Animal):\n",
        "  def __init__(self):\n",
        "    print(\"dog is created\")\n",
        "  \n",
        "  def whoamI(self):\n",
        "    print(\"dog\")\n",
        "  \n",
        "  def bark(self):\n",
        "    print(\"woof\")"
      ],
      "metadata": {
        "id": "IqduW2CQvmtD"
      },
      "execution_count": 122,
      "outputs": []
    },
    {
      "cell_type": "code",
      "source": [
        "d = Dog()\n"
      ],
      "metadata": {
        "colab": {
          "base_uri": "https://localhost:8080/"
        },
        "id": "6V6n10RexumP",
        "outputId": "68831548-2339-4636-b2f5-c69e031024c2"
      },
      "execution_count": 73,
      "outputs": [
        {
          "output_type": "stream",
          "name": "stdout",
          "text": [
            "dog is created\n"
          ]
        }
      ]
    },
    {
      "cell_type": "code",
      "source": [
        "d.whoamI()"
      ],
      "metadata": {
        "colab": {
          "base_uri": "https://localhost:8080/"
        },
        "id": "N1iZzhGexy4i",
        "outputId": "e5d1c747-de14-46e1-ec01-6cd72ea65f6d"
      },
      "execution_count": 74,
      "outputs": [
        {
          "output_type": "stream",
          "name": "stdout",
          "text": [
            "dog\n"
          ]
        }
      ]
    },
    {
      "cell_type": "code",
      "source": [
        "d.eat()"
      ],
      "metadata": {
        "colab": {
          "base_uri": "https://localhost:8080/"
        },
        "id": "-o0bAYPWx3LM",
        "outputId": "985c1942-698d-4cde-88fb-ed593c93bf71"
      },
      "execution_count": 75,
      "outputs": [
        {
          "output_type": "stream",
          "name": "stdout",
          "text": [
            "eating\n"
          ]
        }
      ]
    },
    {
      "cell_type": "code",
      "source": [
        "class Book():\n",
        "  def __init__(self, title, author, pages):\n",
        "    self.title = title\n",
        "    self.author = author \n",
        "    self.pages = pages\n",
        "  \n",
        "  def __str__(self):\n",
        "    return 'Title : {}, Author : {}, Pages : {}'.format(self.title,self.author, self.pages)\n",
        "  \n",
        "  def __len__(self):\n",
        "    return self.pages\n",
        "\n",
        "  def __del__(self):\n",
        "    print(\"book is destroyed\")"
      ],
      "metadata": {
        "id": "qw_-5SihyBUu"
      },
      "execution_count": 119,
      "outputs": []
    },
    {
      "cell_type": "code",
      "source": [
        "book = Book('python', 'khan', '200')"
      ],
      "metadata": {
        "id": "VUeqUEe1ysB9"
      },
      "execution_count": 120,
      "outputs": []
    },
    {
      "cell_type": "code",
      "source": [
        "print(book)"
      ],
      "metadata": {
        "colab": {
          "base_uri": "https://localhost:8080/"
        },
        "id": "5FcZbDtHzD2B",
        "outputId": "cfc4d520-46f7-43e1-966a-d74ebe730868"
      },
      "execution_count": 114,
      "outputs": [
        {
          "output_type": "stream",
          "name": "stdout",
          "text": [
            "Title : python, Author : khan, Pages : 200\n"
          ]
        }
      ]
    },
    {
      "cell_type": "code",
      "source": [
        "del book"
      ],
      "metadata": {
        "colab": {
          "base_uri": "https://localhost:8080/"
        },
        "id": "nuHVI-qLzKQk",
        "outputId": "4c1ed351-0804-4e1e-eb12-af1fa7c1f614"
      },
      "execution_count": 116,
      "outputs": [
        {
          "output_type": "stream",
          "name": "stdout",
          "text": [
            "book is destroyed\n"
          ]
        }
      ]
    }
  ]
}